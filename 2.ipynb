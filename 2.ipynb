{
 "cells": [
  {
   "cell_type": "code",
   "execution_count": 88,
   "metadata": {},
   "outputs": [],
   "source": [
    "#import BasicOp as bop\n",
    "\n",
    "class Arith_Mod_P:\n",
    "\n",
    "    def __init__(self, num, prime):\n",
    "        if num >= prime or num < 0:\n",
    "            error = 'Num {} is not in the range 0 to {}'.format(num, prime-1)\n",
    "            raise ValueError(error)\n",
    "        self.num = num\n",
    "        self.prime = prime\n",
    "\n",
    "    def __repr__(self):\n",
    "        return 'Integer {} (mod {})'.format(self.num, self.prime)\n",
    "\n",
    "    def __eq__(self, other):\n",
    "        if other is None:\n",
    "            return False\n",
    "        return self.num == other.num and self.prime==other.prime\n",
    "\n",
    "    def __add__(self, other):\n",
    "        if self.prime != other.prime:\n",
    "            raise TypeError('Cannot add with different moduli')\n",
    "        num = (self.num + other.num) % self.prime\n",
    "        return self.__class__(num, self.prime)\n",
    "\n",
    "    def __sub__(self, other):\n",
    "        if self.prime != other.prime:\n",
    "            raise TypeError('Cannot subtract with different moduli')\n",
    "        num = (self.num - other.num) % self.prime\n",
    "        return self.__class__(num, self.prime)\n",
    "\n",
    "    def __mul__(self, other):\n",
    "        if self.prime != other.prime:\n",
    "            raise TypeError('Cannot multiply with different moduli')\n",
    "        num = (self.num * other.num) % self.prime\n",
    "        return self.__class__(num, self.prime)\n",
    "\n",
    "    def __pow__(self, exponent):\n",
    "        '''\n",
    "            Trivial exponentiation\n",
    "        '''\n",
    "# num = self.num\n",
    "# for i in range(exponent-1):\n",
    "# num = (num * self.num) % self.prime\n",
    "\n",
    "        '''\n",
    "            Use Square and Multiply (Fast Modulo Exponentiation)\n",
    "        '''\n",
    "        num = self.Exp(exponent)\n",
    "# num = bop.Exp(self.num,exponent%(self.prime-1),self.prime) # Use Fermat Little Theorem\n",
    "        '''\n",
    "            Use python pow\n",
    "        '''\n",
    "# exp = exponent % (self.prime - 1)\n",
    "# num = pow(self.num, exp, self.prime)\n",
    "        return self.__class__(num, self.prime)\n",
    "\n",
    "    def __truediv__(self, other):\n",
    "        if self.prime != other.prime:\n",
    "            raise TypeError('Cannot divide with different moduli')\n",
    "        '''\n",
    "            Use Extended Euclidean Algorithm\n",
    "        '''\n",
    "        num = ( self.num * self.Inv(other.num) ) % self.prime\n",
    "        '''\n",
    "            Use Fermat Little Theorem\n",
    "        '''\n",
    "# num = ( self.num * (other**(self.prime-2)).num ) % self.prime\n",
    "        '''\n",
    "            Use python pow\n",
    "        '''\n",
    "# num = ( self.num * pow(other.num, self.prime-2, self.prime) ) % self.prime\n",
    "        return self.__class__(num, self.prime)\n",
    "\n",
    "    def Inv(self,a):\n",
    "        '''\n",
    "            Please fill in here\n",
    "        '''\n",
    "        (t_0, t_1) = (0, 1) \n",
    "        (r_0, r_1) = (self.prime, a)\n",
    "\n",
    "        while r_1 != 0:\n",
    "            q = r_0 // r_1\n",
    "            (t_0, t_1) = (t_1, t_0 - q * t_1) \n",
    "            (r_0, r_1) = (r_1, r_0 - q * r_1)\n",
    "\n",
    "        if t_0 < 0 :\n",
    "            t_0 += self.prime\n",
    "\n",
    "        return t_0\n",
    "        \n",
    "        \n",
    "    def Exp(self,e):\n",
    "        '''\n",
    "            Please fill in here\n",
    "        ''' \n",
    "        #페르마 소정리 이용\n",
    "        e = e % (self.prime-1)\n",
    "\n",
    "        e_list = []\n",
    "\n",
    "        while e != 1 and e != 0:\n",
    "            e_list.append(e % 2)\n",
    "            e = e // 2\n",
    "\n",
    "        if e == 1:\n",
    "            e_list.append(1)\n",
    "\n",
    "        value = 1\n",
    "\n",
    "        for i in e_list[::-1]:\n",
    "            value = value ** 2\n",
    "            value = (value * (self.num ** i)) % self.prime\n",
    "\n",
    "        return value\n"
   ]
  },
  {
   "cell_type": "code",
   "execution_count": 89,
   "metadata": {},
   "outputs": [
    {
     "data": {
      "text/plain": [
       "(str, '0b1010', '1010')"
      ]
     },
     "execution_count": 89,
     "metadata": {},
     "output_type": "execute_result"
    }
   ],
   "source": [
    "a = bin(10)\n",
    "type(a), a, a[2:]"
   ]
  },
  {
   "cell_type": "code",
   "execution_count": 90,
   "metadata": {},
   "outputs": [
    {
     "name": "stdout",
     "output_type": "stream",
     "text": [
      "Integer 0 (mod 5)\n",
      "Integer 4 (mod 5)\n",
      "Integer 1 (mod 5)\n",
      "Integer 4 (mod 5)\n",
      "Integer 4 (mod 5)\n"
     ]
    }
   ],
   "source": [
    "a = Arith_Mod_P(2,5)\n",
    "b = Arith_Mod_P(3,5)\n",
    "print(a+b) # 2+3 = 0 (mod 5)\n",
    "print(a-b) # 2-3 = -1 = 4 (mod 5)\n",
    "print(a*b) # 2*3 = 6  = 1 (mod 5)\n",
    "\n",
    "print(a/b) # 2/3 = 4 because 4*3 = 12 = 2 (mod 5) \n",
    "print(a**6) # 2*2*2 = 8 = 3 (mod 5), 3*3 = 9 = 4 (mod 5)\n"
   ]
  },
  {
   "cell_type": "markdown",
   "metadata": {
    "tags": []
   },
   "source": [
    "### <font color=red>Third Homework Assignment </font>\n",
    "1. Complete two methods \"Inv\" and \"Exp\" in the above class.\n",
    "    - For \"Exp\", use Fermat's little theorem to reduce the computation cost.\n",
    "    - For \"Inv\", use Extended Euclidean algorithm.\n",
    "    - Your code will be tested using the following four prime numbers of various sizes:\n",
    "\n",
    "        (32 bits prime)\n",
    "            p = 444808909 \n",
    "        (64 bits prime)\n",
    "            p = 10668207655710163777 \n",
    "        (128 bits prime)\n",
    "            p = 192174542288837860886224864781372964301\n",
    "        (1024 bits prime)        \n",
    "            p = 89607224685969047816482633052881767892331307298279278587508980732039941422850236290747256779319188456120105963975108420430025283463873051485606758649148333417795263487458602906858007981331275630771122100861702155084364340830272439055069464667707682659874610042828497585138342816339959408774391006078047614901\n",
    "2. Write your code for the following problem.\n",
    "    - function name: CRT\n",
    "    - Input: two lists '$a$' and '$p$' of equal length, (not limited to 4)\n",
    "    - output: Chinese-remaindering a system of congruences $a[i] \\pmod {p[i]}$ for all $i$"
   ]
  },
  {
   "cell_type": "code",
   "execution_count": 92,
   "metadata": {},
   "outputs": [
    {
     "name": "stdout",
     "output_type": "stream",
     "text": [
      "Integer 75018789031268735513973845602463023596543393715384402120811314826144324339584567670510538778107206958190601251986651501617900178673655634717886742317289275877109996224525273826383915998179571903620443830286038838962874037698712999663363581154952567655783098395191842240118808262744534686675377862147742016334 (mod 89607224685969047816482633052881767892331307298279278587508980732039941422850236290747256779319188456120105963975108420430025283463873051485606758649148333417795263487458602906858007981331275630771122100861702155084364340830272439055069464667707682659874610042828497585138342816339959408774391006078047614901)\n",
      "\n",
      "Integer 21760338612844540587802304850066601403767509230897203862638607347871140117785334691681515493138729924785446789448340605053769244086552856785960778018180165522981546853965846076747169068323433298880353507379511326512745368249875614673035469698827847458047854850436123950444173675681872105181455143486547912380 (mod 89607224685969047816482633052881767892331307298279278587508980732039941422850236290747256779319188456120105963975108420430025283463873051485606758649148333417795263487458602906858007981331275630771122100861702155084364340830272439055069464667707682659874610042828497585138342816339959408774391006078047614901)\n",
      "\n",
      "Integer 1 (mod 89607224685969047816482633052881767892331307298279278587508980732039941422850236290747256779319188456120105963975108420430025283463873051485606758649148333417795263487458602906858007981331275630771122100861702155084364340830272439055069464667707682659874610042828497585138342816339959408774391006078047614901)\n",
      "\n",
      "True\n"
     ]
    }
   ],
   "source": [
    "#p = 444808909 # 32bits prime\n",
    "#p = 10668207655710163777 # 64bits prime\n",
    "#p = 192174542288837860886224864781372964301 # 128 bits\n",
    "p = 89607224685969047816482633052881767892331307298279278587508980732039941422850236290747256779319188456120105963975108420430025283463873051485606758649148333417795263487458602906858007981331275630771122100861702155084364340830272439055069464667707682659874610042828497585138342816339959408774391006078047614901 #1024bits\n",
    "\n",
    "import random\n",
    "a = random.randint(0,p)\n",
    "b = random.randint(0,p)\n",
    "\n",
    "A = Arith_Mod_P(a,p)\n",
    "B = Arith_Mod_P(b,p)\n",
    "\n",
    "print(A, B, A**(p-1), (A/B)*B == A, sep='\\n\\n')\n",
    "\n",
    "# import numpy as np\n",
    "\n",
    "# rng = np.random.default_rng()\n",
    "# a = rng.integers(100)\n",
    "\n",
    "# type(a)\n",
    "\n"
   ]
  },
  {
   "cell_type": "markdown",
   "metadata": {},
   "source": [
    "### <font color=red>Third Homework Assignment - 2</font>"
   ]
  },
  {
   "cell_type": "code",
   "execution_count": 93,
   "metadata": {},
   "outputs": [],
   "source": [
    "def inv(a, n):\n",
    "    (t_0, t_1) = (0, 1) \n",
    "    (r_0, r_1) = (n, a)\n",
    "\n",
    "    while r_1 != 0:\n",
    "        q = r_0 // r_1\n",
    "        (t_0, t_1) = (t_1, t_0 - q * t_1) \n",
    "        (r_0, r_1) = (r_1, r_0 - q * r_1)\n",
    "\n",
    "    if t_0 < 0 :\n",
    "        t_0 += n\n",
    "\n",
    "    return t_0\n",
    "\n",
    "#CRT 함수 내부에 inv를 포함하는 것이 코드 가독성을 해치는 듯 하여,\n",
    "#위에 inv 함수를 따로 구현하였습니다.\n",
    "\n",
    "def CRT(a, p):\n",
    "    all_p = 1\n",
    "\n",
    "    for i in p:\n",
    "        all_p = all_p * i\n",
    "    \n",
    "    value = 0\n",
    "    \n",
    "    for i in range(len(p)):\n",
    "        q = all_p // p[i]\n",
    "        value += a[i] * inv(q, p[i]) * q\n",
    "        \n",
    "    return value % all_p"
   ]
  },
  {
   "cell_type": "code",
   "execution_count": 94,
   "metadata": {},
   "outputs": [
    {
     "data": {
      "text/plain": [
       "True"
      ]
     },
     "execution_count": 94,
     "metadata": {},
     "output_type": "execute_result"
    }
   ],
   "source": [
    "import random\n",
    "\n",
    "p0 = 444808909 # 32bits prime\n",
    "p1 = 10668207655710163777 # 64bits prime\n",
    "p2 = 192174542288837860886224864781372964301 # 128 bits\n",
    "p3 = 89607224685969047816482633052881767892331307298279278587508980732039941422850236290747256779319188456120105963975108420430025283463873051485606758649148333417795263487458602906858007981331275630771122100861702155084364340830272439055069464667707682659874610042828497585138342816339959408774391006078047614901 #1024bits\n",
    "\n",
    "p = [p0,p1,p2,p3]\n",
    "a = [random.randint(0,eval(f\"p{i}\")) for i in range(4)]\n",
    "\n",
    "#x = bop.CRT_general(a,p)\n",
    "x = CRT(a,p)\n",
    "a == [x%eval(f\"p{i}\") for i in range(4)]"
   ]
  },
  {
   "cell_type": "code",
   "execution_count": 95,
   "metadata": {},
   "outputs": [
    {
     "data": {
      "text/plain": [
       "[444808909,\n",
       " 10668207655710163777,\n",
       " 192174542288837860886224864781372964301,\n",
       " 89607224685969047816482633052881767892331307298279278587508980732039941422850236290747256779319188456120105963975108420430025283463873051485606758649148333417795263487458602906858007981331275630771122100861702155084364340830272439055069464667707682659874610042828497585138342816339959408774391006078047614901]"
      ]
     },
     "execution_count": 95,
     "metadata": {},
     "output_type": "execute_result"
    }
   ],
   "source": [
    "p"
   ]
  },
  {
   "cell_type": "code",
   "execution_count": 96,
   "metadata": {},
   "outputs": [
    {
     "data": {
      "text/plain": [
       "[101803161,\n",
       " 4770752841396183766,\n",
       " 144039923273444092420539748759231697664,\n",
       " 35137710048082043414917809767732051038595862072038558294939089631770275360253260427790564312494760758449455305569443178966781668587559454656820032365333454616313192878225986302229123374279226118142778968685879106049415335439524278886582157356802216706622769600884856187200672879606928600342827164737018070912]"
      ]
     },
     "execution_count": 96,
     "metadata": {},
     "output_type": "execute_result"
    }
   ],
   "source": [
    "a"
   ]
  },
  {
   "cell_type": "code",
   "execution_count": 97,
   "metadata": {},
   "outputs": [
    {
     "data": {
      "text/plain": [
       "[101803161,\n",
       " 4770752841396183766,\n",
       " 144039923273444092420539748759231697664,\n",
       " 35137710048082043414917809767732051038595862072038558294939089631770275360253260427790564312494760758449455305569443178966781668587559454656820032365333454616313192878225986302229123374279226118142778968685879106049415335439524278886582157356802216706622769600884856187200672879606928600342827164737018070912]"
      ]
     },
     "execution_count": 97,
     "metadata": {},
     "output_type": "execute_result"
    }
   ],
   "source": [
    "[x%eval(f\"p{i}\") for i in range(4)]"
   ]
  },
  {
   "cell_type": "code",
   "execution_count": null,
   "metadata": {},
   "outputs": [],
   "source": []
  }
 ],
 "metadata": {
  "kernelspec": {
   "display_name": "Python 3 (ipykernel)",
   "language": "python",
   "name": "python3"
  },
  "language_info": {
   "codemirror_mode": {
    "name": "ipython",
    "version": 3
   },
   "file_extension": ".py",
   "mimetype": "text/x-python",
   "name": "python",
   "nbconvert_exporter": "python",
   "pygments_lexer": "ipython3",
   "version": "3.10.9"
  }
 },
 "nbformat": 4,
 "nbformat_minor": 4
}
